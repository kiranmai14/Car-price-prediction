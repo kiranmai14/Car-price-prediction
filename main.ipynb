{
 "nbformat": 4,
 "nbformat_minor": 2,
 "metadata": {
  "language_info": {
   "name": "python",
   "codemirror_mode": {
    "name": "ipython",
    "version": 3
   },
   "version": "3.7.2-final"
  },
  "orig_nbformat": 2,
  "file_extension": ".py",
  "mimetype": "text/x-python",
  "name": "python",
  "npconvert_exporter": "python",
  "pygments_lexer": "ipython3",
  "version": 3,
  "kernelspec": {
   "name": "5a74aee1-9c71-4b59-9034-979a1e9c772e",
   "display_name": "'Python Interactive'"
  }
 },
 "cells": [
  {
   "cell_type": "code",
   "execution_count": null,
   "metadata": {},
   "outputs": [],
   "source": [
    "%pip install pandas numpy matplotlib tensorflow keras"
   ]
  },
  {
   "cell_type": "code",
   "execution_count": null,
   "metadata": {},
   "outputs": [],
   "source": [
    "%pip install xlrd"
   ]
  },
  {
   "cell_type": "code",
   "execution_count": null,
   "metadata": {},
   "outputs": [],
   "source": [
    "import pandas as pd\n",
    "import numpy as np\n",
    "\n",
    "from matplotlib import pyplot as plt\n",
    "from matplotlib import ticker as ticker"
   ]
  },
  {
   "cell_type": "code",
   "execution_count": null,
   "metadata": {},
   "outputs": [],
   "source": [
    "train_data = pd.read_excel(r\"./data/Data_Train.xlsx\", sheet_name=\"Sheet1\")"
   ]
  },
  {
   "cell_type": "code",
   "execution_count": null,
   "metadata": {},
   "outputs": [],
   "source": [
    "train_data = train_data.dropna(how='any',axis=0)\n",
    "train_data = train_data.to_numpy()"
   ]
  },
  {
   "cell_type": "code",
   "execution_count": null,
   "metadata": {},
   "outputs": [],
   "source": [
    "# assume `Price` in Lakh\n",
    "data_params = ['Name', 'Location', 'Year', 'Kilometers_Driven', 'Fuel_Type', 'Transmission', 'Owner_Type', 'Mileage', 'Engine', 'Power', 'Seats', 'New_Price', 'Price']"
   ]
  },
  {
   "cell_type": "code",
   "execution_count": null,
   "metadata": {},
   "outputs": [],
   "source": [
    "def one_hot_encode(data:np.ndarray, n:int, categories:list = None) -> np.ndarray:\n",
    "    \"\"\"\n",
    "    Convert the given input into one-hot-encoding.\n",
    "    Use the given categories, if exist then convert the data,\n",
    "    else convert indices to one-hot\n",
    "    \"\"\"\n",
    "\n",
    "    try:\n",
    "        assert categories is None\n",
    "        data = data.astype(int)\n",
    "    except (ValueError, AssertionError):\n",
    "        data = np.vectorize(categories.index)(data)\n",
    "    finally:\n",
    "        targets = np.array(data).reshape(-1)\n",
    "    \n",
    "    return np.eye(n)[targets][0]"
   ]
  },
  {
   "cell_type": "code",
   "execution_count": null,
   "metadata": {},
   "outputs": [],
   "source": [
    "one_encode_params = [\"Name\", \"Location\", \"Year\", \"Fuel_Type\", \"Transmission\", \"Owner_Type\"]\n",
    "\n",
    "def encode_params(data, params):\n",
    "    ix = map(data_params.index, params) \n",
    "    encoded_params = {}\n",
    "\n",
    "    for i in ix:\n",
    "        m = data_params[i]\n",
    "        encoded_params[m] = [np.unique(data[:,i].astype(str), axis=0).tolist(), None]\n",
    "        encoded_params[m][1] = list(map(lambda x: one_hot_encode(x, len(encoded_params[m][0]), encoded_params[m][0]), data[:,i].astype(str)))\n",
    "    \n",
    "    return encoded_params"
   ]
  },
  {
   "cell_type": "code",
   "execution_count": null,
   "metadata": {},
   "outputs": [],
   "source": [
    "categories = encode_params(train_data, one_encode_params)"
   ]
  },
  {
   "cell_type": "code",
   "execution_count": null,
   "metadata": {},
   "outputs": [],
   "source": [
    "categories['Year']"
   ]
  },
  {
   "cell_type": "code",
   "execution_count": null,
   "metadata": {},
   "outputs": [],
   "source": []
  }
 ]
}