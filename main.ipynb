{
 "nbformat": 4,
 "nbformat_minor": 2,
 "metadata": {
  "language_info": {
   "name": "python",
   "codemirror_mode": {
    "name": "ipython",
    "version": 3
   },
   "version": "3.7.2-final"
  },
  "orig_nbformat": 2,
  "file_extension": ".py",
  "mimetype": "text/x-python",
  "name": "python",
  "npconvert_exporter": "python",
  "pygments_lexer": "ipython3",
  "version": 3,
  "kernelspec": {
   "name": "5a74aee1-9c71-4b59-9034-979a1e9c772e",
   "display_name": "'Python Interactive'"
  }
 },
 "cells": [
  {
   "cell_type": "code",
   "execution_count": null,
   "metadata": {},
   "outputs": [],
   "source": [
    "%pip install pandas numpy matplotlib tensorflow keras"
   ]
  },
  {
   "cell_type": "code",
   "execution_count": null,
   "metadata": {},
   "outputs": [],
   "source": [
    "%pip install xlrd"
   ]
  },
  {
   "cell_type": "code",
   "execution_count": 22,
   "metadata": {},
   "outputs": [],
   "source": [
    "import pandas as pd\n",
    "import numpy as np\n",
    "\n",
    "from matplotlib import pyplot as plt\n",
    "from matplotlib import ticker as ticker"
   ]
  },
  {
   "cell_type": "code",
   "execution_count": 23,
   "metadata": {},
   "outputs": [],
   "source": [
    "train_data = pd.read_excel(r\"./data/Data_Train.xlsx\", sheet_name=\"Sheet1\")"
   ]
  },
  {
   "cell_type": "code",
   "execution_count": 24,
   "metadata": {},
   "outputs": [
    {
     "name": "stdout",
     "output_type": "stream",
     "text": "[['Honda Jazz V' 'Chennai' 2011 ... 5.0 '8.61 Lakh' 4.5]\n ['Toyota Innova Crysta 2.8 GX AT 8S' 'Mumbai' 2016 ... 8.0 '21 Lakh'\n  17.5]\n ['Maruti Ciaz Zeta' 'Kochi' 2018 ... 5.0 '10.65 Lakh' 9.95]\n ...\n ['Maruti Vitara Brezza VDi' 'Pune' 2016 ... 5.0 '9.93 Lakh' 7.43]\n ['Honda Brio 1.2 VX MT' 'Delhi' 2013 ... 5.0 '6.63 Lakh' 3.2]\n ['Maruti Swift VDI' 'Delhi' 2014 ... 5.0 '7.88 Lakh' 4.75]]\n"
    }
   ],
   "source": [
    "train_data = train_data.dropna(how='any',axis=0)\n",
    "train_data = train_data.to_numpy()"
   ]
  },
  {
   "cell_type": "code",
   "execution_count": 25,
   "metadata": {},
   "outputs": [],
   "source": [
    "# assume `Price` in Lakh\n",
    "data_params = ['Name', 'Location', 'Year', 'Kilometers_Driven', 'Fuel_Type', 'Transmission', 'Owner_Type', 'Mileage', 'Engine', 'Power', 'Seats', 'New_Price', 'Price']"
   ]
  },
  {
   "cell_type": "code",
   "execution_count": 26,
   "metadata": {},
   "outputs": [],
   "source": [
    "def one_hot_encode(data:np.ndarray, n:int, categories:list = None) -> np.ndarray:\n",
    "    \"\"\"\n",
    "    Convert the given input into one-hot-encoding.\n",
    "    Use the given categories, if exist then convert the data,\n",
    "    else convert indices to one-hot\n",
    "    \"\"\"\n",
    "\n",
    "    try:\n",
    "        assert categories is None\n",
    "        data = data.astype(int)\n",
    "    except (ValueError, AssertionError):\n",
    "        data = np.vectorize(categories.index)(data)\n",
    "    finally:\n",
    "        targets = np.array(data).reshape(-1)\n",
    "    \n",
    "    return np.eye(n)[targets][0]"
   ]
  },
  {
   "cell_type": "code",
   "execution_count": 27,
   "metadata": {},
   "outputs": [],
   "source": [
    "one_encode_params = [\"Name\", \"Location\", \"Year\", \"Fuel_Type\", \"Transmission\", \"Owner_Type\"]\n",
    "\n",
    "def encode_params(data, params):\n",
    "    ix = map(data_params.index, params) \n",
    "    encoded_params = {}\n",
    "\n",
    "    for i in ix:\n",
    "        m = data_params[i]\n",
    "        encoded_params[m] = [np.unique(data[:,i].astype(str), axis=0).tolist(), None]\n",
    "        encoded_params[m][1] = list(map(lambda x: one_hot_encode(x, len(encoded_params[m][0]), encoded_params[m][0]), data[:,i].astype(str)))\n",
    "    \n",
    "    return encoded_params"
   ]
  },
  {
   "cell_type": "code",
   "execution_count": 28,
   "metadata": {},
   "outputs": [],
   "source": [
    "categories = encode_params(train_data, one_encode_params)"
   ]
  },
  {
   "cell_type": "code",
   "execution_count": 29,
   "metadata": {},
   "outputs": [],
   "source": [
    "def convert_prices(price):\n",
    "    p = price.split(\" \")\n",
    "    price = float(p[0])\n",
    "    cr = p[1] == \"Cr\"\n",
    "\n",
    "    return price if not cr else 100*price\n",
    "\n",
    "train_data[:,11] = np.vectorize(convert_prices)(train_data[:,11]).astype(float)"
   ]
  },
  {
   "cell_type": "code",
   "execution_count": 34,
   "metadata": {},
   "outputs": [],
   "source": [
    "train_data[:,7] = np.vectorize(lambda i: float(i.split(\" \")[0]))(train_data[:,7]).astype(float)"
   ]
  },
  {
   "cell_type": "code",
   "execution_count": 39,
   "metadata": {},
   "outputs": [],
   "source": [
    "train_data[:,8] = np.vectorize(lambda i: float(i.split(\" \")[0]))(train_data[:,8]).astype(float)\n",
    "train_data[:,9] = np.vectorize(lambda i: float(i.split(\" \")[0]))(train_data[:,9]).astype(float)"
   ]
  },
  {
   "cell_type": "code",
   "execution_count": 41,
   "metadata": {},
   "outputs": [
    {
     "data": {
      "text/plain": "array([['Honda Jazz V', 'Chennai', 2011, 46000, 'Petrol', 'Manual',\n        'First', 18.2, 1199.0, 88.7, 5.0, 8.61, 4.5],\n       ['Toyota Innova Crysta 2.8 GX AT 8S', 'Mumbai', 2016, 36000,\n        'Diesel', 'Automatic', 'First', 11.36, 2755.0, 171.5, 8.0, 21.0,\n        17.5]], dtype=object)"
     },
     "execution_count": 41,
     "metadata": {},
     "output_type": "execute_result"
    }
   ],
   "source": [
    "train_data[:2]"
   ]
  },
  {
   "cell_type": "code",
   "execution_count": null,
   "metadata": {},
   "outputs": [],
   "source": []
  }
 ]
}